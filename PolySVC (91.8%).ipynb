{
 "cells": [
  {
   "cell_type": "code",
   "execution_count": 1,
   "id": "03debee9-0b4c-4459-892c-5299a22fae2d",
   "metadata": {},
   "outputs": [],
   "source": [
    "import numpy as np\n",
    "import pandas as pd\n",
    "import cv2\n",
    "from sklearn.metrics import accuracy_score,confusion_matrix\n",
    "import matplotlib.pyplot as plt\n",
    "import glob"
   ]
  },
  {
   "cell_type": "code",
   "execution_count": 2,
   "id": "b5fb5fa8-7354-42a0-9e14-de090794d0aa",
   "metadata": {},
   "outputs": [],
   "source": [
    "glioma=[]\n",
    "meningioma=[]\n",
    "notumor=[]\n",
    "pituitary=[]\n",
    "path1='./Training/glioma/*.jpg'\n",
    "path2='./Training/meningioma/*.jpg'\n",
    "path3='./Training/notumor/*.jpg'\n",
    "path4='./Training/pituitary/*.jpg'\n",
    "for i in glob.iglob(path1):\n",
    "    img=cv2.imread(i)\n",
    "    img=cv2.resize(img,(128,128))\n",
    "    glioma.append(img)\n",
    "for j in glob.iglob(path2):\n",
    "    img=cv2.imread(j)\n",
    "    img=cv2.resize(img,(128,128))\n",
    "    meningioma.append(img)\n",
    "for k in glob.iglob(path3):\n",
    "    img=cv2.imread(k)\n",
    "    img=cv2.resize(img,(128,128))\n",
    "    notumor.append(img)\n",
    "for l in glob.iglob(path4):\n",
    "    img=cv2.imread(l)\n",
    "    img=cv2.resize(img,(128,128))\n",
    "    pituitary.append(img)"
   ]
  },
  {
   "cell_type": "code",
   "execution_count": 3,
   "id": "573987e0-78db-4a0e-911f-8a9c1c491a58",
   "metadata": {},
   "outputs": [],
   "source": [
    "glioma_t=[]\n",
    "meningioma_t=[]\n",
    "notumor_t=[]\n",
    "pituitary_t=[]\n",
    "path1='./Testing/glioma/*.jpg'\n",
    "path2='./Testing/meningioma/*.jpg'\n",
    "path3='./Testing/notumor/*.jpg'\n",
    "path4='./Testing/pituitary/*.jpg'\n",
    "for i in glob.iglob(path1):\n",
    "    img=cv2.imread(i)\n",
    "    img=cv2.resize(img,(128,128))\n",
    "    glioma_t.append(img)\n",
    "for j in glob.iglob(path2):\n",
    "    img=cv2.imread(j)\n",
    "    img=cv2.resize(img,(128,128))\n",
    "    meningioma_t.append(img)\n",
    "for k in glob.iglob(path3):\n",
    "    img=cv2.imread(k)\n",
    "    img=cv2.resize(img,(128,128))\n",
    "    notumor_t.append(img)\n",
    "for l in glob.iglob(path4):\n",
    "    img=cv2.imread(l)\n",
    "    img=cv2.resize(img,(128,128))\n",
    "    pituitary_t.append(img)"
   ]
  },
  {
   "cell_type": "code",
   "execution_count": 4,
   "id": "b70406be-b91b-4953-9fd6-dc538c8a2724",
   "metadata": {},
   "outputs": [
    {
     "name": "stdout",
     "output_type": "stream",
     "text": [
      "5712\n",
      "5712\n"
     ]
    }
   ],
   "source": [
    "data=[]\n",
    "for i in glioma:\n",
    "    data.append(i)\n",
    "for i in meningioma:\n",
    "    data.append(i)\n",
    "for i in notumor:\n",
    "    data.append(i)\n",
    "for i in pituitary:\n",
    "    data.append(i)\n",
    "print(len(data))\n",
    "labels=[]\n",
    "for i in range(len(glioma)):\n",
    "    labels.append(0)\n",
    "for i in range(len(meningioma)):\n",
    "    labels.append(1)\n",
    "for i in range(len(notumor)):\n",
    "    labels.append(2)\n",
    "for i in range(len(pituitary)):\n",
    "    labels.append(3)\n",
    "print(len(labels))"
   ]
  },
  {
   "cell_type": "code",
   "execution_count": 5,
   "id": "73477e81-7db7-434b-a0ef-dcd29b7d2ec9",
   "metadata": {},
   "outputs": [
    {
     "name": "stdout",
     "output_type": "stream",
     "text": [
      "1311\n",
      "1311\n"
     ]
    }
   ],
   "source": [
    "data_t=[]\n",
    "for i in glioma_t:\n",
    "    data_t.append(i)\n",
    "for i in meningioma_t:\n",
    "    data_t.append(i)\n",
    "for i in notumor_t:\n",
    "    data_t.append(i)\n",
    "for i in pituitary_t:\n",
    "    data_t.append(i)\n",
    "print(len(data_t))\n",
    "labels_t=[]\n",
    "for i in range(len(glioma_t)):\n",
    "    labels_t.append(0)\n",
    "for i in range(len(meningioma_t)):\n",
    "    labels_t.append(1)\n",
    "for i in range(len(notumor_t)):\n",
    "    labels_t.append(2)\n",
    "for i in range(len(pituitary_t)):\n",
    "    labels_t.append(3)\n",
    "print(len(labels_t))"
   ]
  },
  {
   "cell_type": "code",
   "execution_count": 6,
   "id": "1b482a8a-b9f8-4399-88c1-5f6b7d86e167",
   "metadata": {},
   "outputs": [
    {
     "name": "stdout",
     "output_type": "stream",
     "text": [
      "Reshaped shape: (5712, 49152)\n",
      "New shape: (5712,)\n"
     ]
    }
   ],
   "source": [
    "X=np.asarray(data)\n",
    "X = X.reshape(X.shape[0], -1)\n",
    "print(\"Reshaped shape:\", X.shape)\n",
    "Y=np.asarray(labels)\n",
    "Y = Y.ravel()\n",
    "print(\"New shape:\", Y.shape)"
   ]
  },
  {
   "cell_type": "code",
   "execution_count": 7,
   "id": "d8364cef-090b-4964-b557-87b64437d9d9",
   "metadata": {},
   "outputs": [
    {
     "name": "stdout",
     "output_type": "stream",
     "text": [
      "Reshaped shape: (1311, 49152)\n",
      "New shape: (1311,)\n"
     ]
    }
   ],
   "source": [
    "X_t=np.asarray(data_t)\n",
    "X_t = X_t.reshape(X_t.shape[0], -1)\n",
    "print(\"Reshaped shape:\", X_t.shape)\n",
    "Y_t=np.asarray(labels_t)\n",
    "Y_t= Y_t.ravel()\n",
    "print(\"New shape:\", Y_t.shape)"
   ]
  },
  {
   "cell_type": "code",
   "execution_count": 8,
   "id": "4f6e3110-6462-426c-9e5c-425b8c305994",
   "metadata": {},
   "outputs": [],
   "source": [
    "x_train,x_test,y_train,y_test=X,X_t,Y,Y_t"
   ]
  },
  {
   "cell_type": "code",
   "execution_count": null,
   "id": "36ef5e5c-9853-4573-9a77-545887e1c03e",
   "metadata": {},
   "outputs": [],
   "source": [
    "from sklearn.svm import SVC\n",
    "model = SVC(kernel='poly')\n",
    "model.fit(x_train, y_train)"
   ]
  },
  {
   "cell_type": "code",
   "execution_count": 10,
   "id": "a1f2b44e-0d20-4b34-bf53-b1b8992b69e8",
   "metadata": {},
   "outputs": [
    {
     "data": {
      "text/plain": [
       "array([0, 0, 0, ..., 3, 3, 3])"
      ]
     },
     "execution_count": 10,
     "metadata": {},
     "output_type": "execute_result"
    }
   ],
   "source": [
    "y_pred=model.predict(x_test)\n",
    "y_pred"
   ]
  },
  {
   "cell_type": "code",
   "execution_count": 11,
   "id": "8cb169c7-7214-4dd1-859a-cbbdb886b846",
   "metadata": {},
   "outputs": [
    {
     "data": {
      "text/plain": [
       "0.9183829138062548"
      ]
     },
     "execution_count": 11,
     "metadata": {},
     "output_type": "execute_result"
    }
   ],
   "source": [
    "accuracy=accuracy_score(y_test,y_pred)\n",
    "accuracy"
   ]
  },
  {
   "cell_type": "code",
   "execution_count": 12,
   "id": "d35d4510-6b09-41ab-9e7f-6bec0fec61a7",
   "metadata": {},
   "outputs": [
    {
     "data": {
      "text/plain": [
       "array([[268,  27,   1,   4],\n",
       "       [ 37, 254,   5,  10],\n",
       "       [  9,   2, 393,   1],\n",
       "       [  8,   3,   0, 289]], dtype=int64)"
      ]
     },
     "execution_count": 12,
     "metadata": {},
     "output_type": "execute_result"
    }
   ],
   "source": [
    "confusion_matrix(y_test,y_pred)"
   ]
  },
  {
   "cell_type": "code",
   "execution_count": 13,
   "id": "ff7f4b8c-921c-4ad8-932d-2e8b1660013c",
   "metadata": {},
   "outputs": [
    {
     "name": "stdout",
     "output_type": "stream",
     "text": [
      "7023\n",
      "7023\n"
     ]
    }
   ],
   "source": [
    "data_n=data+data_t\n",
    "print(len(data_n))\n",
    "labels_n=labels+labels_t\n",
    "print(len(labels_n))"
   ]
  },
  {
   "cell_type": "code",
   "execution_count": 14,
   "id": "db51ece2-21dd-437a-9c13-b52934026a0d",
   "metadata": {},
   "outputs": [
    {
     "name": "stdout",
     "output_type": "stream",
     "text": [
      "Reshaped shape: (7023, 49152)\n",
      "New shape: (7023,)\n"
     ]
    }
   ],
   "source": [
    "X_n=np.asarray(data_n)\n",
    "X_n = X_n.reshape(X_n.shape[0], -1)\n",
    "print(\"Reshaped shape:\", X_n.shape)\n",
    "Y_n=np.asarray(labels_n)\n",
    "Y_n= Y_n.ravel()\n",
    "print(\"New shape:\", Y_n.shape)"
   ]
  },
  {
   "cell_type": "code",
   "execution_count": null,
   "id": "d38f2dd4-acb3-49ae-aa0b-38d2625a9199",
   "metadata": {},
   "outputs": [
    {
     "name": "stderr",
     "output_type": "stream",
     "text": [
      "[Parallel(n_jobs=-1)]: Using backend LokyBackend with 16 concurrent workers.\n",
      "[Parallel(n_jobs=-1)]: Done   2 out of   2 | elapsed:  6.7min finished\n"
     ]
    },
    {
     "data": {
      "text/plain": [
       "array([0.82744875, 0.76160638])"
      ]
     },
     "execution_count": 15,
     "metadata": {},
     "output_type": "execute_result"
    }
   ],
   "source": [
    "from sklearn.model_selection import cross_val_score\n",
    "cross_val=cross_val_score(model,X_n,Y_n, cv=5,n_jobs=-1,verbose=1)\n",
    "cross_val"
   ]
  },
  {
   "cell_type": "code",
   "execution_count": 16,
   "id": "41292543-41e0-48ff-8ddd-8ceaf8edcb3d",
   "metadata": {},
   "outputs": [
    {
     "name": "stdout",
     "output_type": "stream",
     "text": [
      "0.7945275635506761\n"
     ]
    }
   ],
   "source": [
    "print(cross_val.mean())"
   ]
  },
  {
   "cell_type": "code",
   "execution_count": 17,
   "id": "df010a18-9e0f-4df2-ae7d-f1c241edcb40",
   "metadata": {},
   "outputs": [
    {
     "name": "stdout",
     "output_type": "stream",
     "text": [
      "              precision    recall  f1-score   support\n",
      "\n",
      "           0       0.83      0.89      0.86       300\n",
      "           1       0.89      0.83      0.86       306\n",
      "           2       0.98      0.97      0.98       405\n",
      "           3       0.95      0.96      0.96       300\n",
      "\n",
      "    accuracy                           0.92      1311\n",
      "   macro avg       0.91      0.91      0.91      1311\n",
      "weighted avg       0.92      0.92      0.92      1311\n",
      "\n"
     ]
    }
   ],
   "source": [
    "from sklearn.metrics import classification_report\n",
    "print(classification_report(y_test,y_pred))"
   ]
  }
 ],
 "metadata": {
  "kernelspec": {
   "display_name": "base",
   "language": "python",
   "name": "python3"
  },
  "language_info": {
   "codemirror_mode": {
    "name": "ipython",
    "version": 3
   },
   "file_extension": ".py",
   "mimetype": "text/x-python",
   "name": "python",
   "nbconvert_exporter": "python",
   "pygments_lexer": "ipython3",
   "version": "3.12.7"
  }
 },
 "nbformat": 4,
 "nbformat_minor": 5
}
